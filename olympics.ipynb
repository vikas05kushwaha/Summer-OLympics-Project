{
 "cells": [
  {
   "cell_type": "code",
   "execution_count": 115,
   "id": "c50c46d8",
   "metadata": {},
   "outputs": [
    {
     "data": {
      "text/html": [
       "<div>\n",
       "<style scoped>\n",
       "    .dataframe tbody tr th:only-of-type {\n",
       "        vertical-align: middle;\n",
       "    }\n",
       "\n",
       "    .dataframe tbody tr th {\n",
       "        vertical-align: top;\n",
       "    }\n",
       "\n",
       "    .dataframe thead th {\n",
       "        text-align: right;\n",
       "    }\n",
       "</style>\n",
       "<table border=\"1\" class=\"dataframe\">\n",
       "  <thead>\n",
       "    <tr style=\"text-align: right;\">\n",
       "      <th></th>\n",
       "      <th>Year</th>\n",
       "      <th>City</th>\n",
       "      <th>Sport</th>\n",
       "      <th>Discipline</th>\n",
       "      <th>Athlete</th>\n",
       "      <th>Country</th>\n",
       "      <th>Gender</th>\n",
       "      <th>Event</th>\n",
       "      <th>Medal</th>\n",
       "    </tr>\n",
       "  </thead>\n",
       "  <tbody>\n",
       "    <tr>\n",
       "      <th>0</th>\n",
       "      <td>1896</td>\n",
       "      <td>Athens</td>\n",
       "      <td>Aquatics</td>\n",
       "      <td>Swimming</td>\n",
       "      <td>HAJOS, Alfred</td>\n",
       "      <td>HUN</td>\n",
       "      <td>Men</td>\n",
       "      <td>100M Freestyle</td>\n",
       "      <td>Gold</td>\n",
       "    </tr>\n",
       "    <tr>\n",
       "      <th>1</th>\n",
       "      <td>1896</td>\n",
       "      <td>Athens</td>\n",
       "      <td>Aquatics</td>\n",
       "      <td>Swimming</td>\n",
       "      <td>HERSCHMANN, Otto</td>\n",
       "      <td>AUT</td>\n",
       "      <td>Men</td>\n",
       "      <td>100M Freestyle</td>\n",
       "      <td>Silver</td>\n",
       "    </tr>\n",
       "    <tr>\n",
       "      <th>2</th>\n",
       "      <td>1896</td>\n",
       "      <td>Athens</td>\n",
       "      <td>Aquatics</td>\n",
       "      <td>Swimming</td>\n",
       "      <td>DRIVAS, Dimitrios</td>\n",
       "      <td>GRE</td>\n",
       "      <td>Men</td>\n",
       "      <td>100M Freestyle For Sailors</td>\n",
       "      <td>Bronze</td>\n",
       "    </tr>\n",
       "    <tr>\n",
       "      <th>3</th>\n",
       "      <td>1896</td>\n",
       "      <td>Athens</td>\n",
       "      <td>Aquatics</td>\n",
       "      <td>Swimming</td>\n",
       "      <td>MALOKINIS, Ioannis</td>\n",
       "      <td>GRE</td>\n",
       "      <td>Men</td>\n",
       "      <td>100M Freestyle For Sailors</td>\n",
       "      <td>Gold</td>\n",
       "    </tr>\n",
       "    <tr>\n",
       "      <th>4</th>\n",
       "      <td>1896</td>\n",
       "      <td>Athens</td>\n",
       "      <td>Aquatics</td>\n",
       "      <td>Swimming</td>\n",
       "      <td>CHASAPIS, Spiridon</td>\n",
       "      <td>GRE</td>\n",
       "      <td>Men</td>\n",
       "      <td>100M Freestyle For Sailors</td>\n",
       "      <td>Silver</td>\n",
       "    </tr>\n",
       "    <tr>\n",
       "      <th>...</th>\n",
       "      <td>...</td>\n",
       "      <td>...</td>\n",
       "      <td>...</td>\n",
       "      <td>...</td>\n",
       "      <td>...</td>\n",
       "      <td>...</td>\n",
       "      <td>...</td>\n",
       "      <td>...</td>\n",
       "      <td>...</td>\n",
       "    </tr>\n",
       "    <tr>\n",
       "      <th>31160</th>\n",
       "      <td>2012</td>\n",
       "      <td>London</td>\n",
       "      <td>Wrestling</td>\n",
       "      <td>Wrestling Freestyle</td>\n",
       "      <td>JANIKOWSKI, Damian</td>\n",
       "      <td>POL</td>\n",
       "      <td>Men</td>\n",
       "      <td>Wg 84 KG</td>\n",
       "      <td>Bronze</td>\n",
       "    </tr>\n",
       "    <tr>\n",
       "      <th>31161</th>\n",
       "      <td>2012</td>\n",
       "      <td>London</td>\n",
       "      <td>Wrestling</td>\n",
       "      <td>Wrestling Freestyle</td>\n",
       "      <td>REZAEI, Ghasem Gholamreza</td>\n",
       "      <td>IRI</td>\n",
       "      <td>Men</td>\n",
       "      <td>Wg 96 KG</td>\n",
       "      <td>Gold</td>\n",
       "    </tr>\n",
       "    <tr>\n",
       "      <th>31162</th>\n",
       "      <td>2012</td>\n",
       "      <td>London</td>\n",
       "      <td>Wrestling</td>\n",
       "      <td>Wrestling Freestyle</td>\n",
       "      <td>TOTROV, Rustam</td>\n",
       "      <td>RUS</td>\n",
       "      <td>Men</td>\n",
       "      <td>Wg 96 KG</td>\n",
       "      <td>Silver</td>\n",
       "    </tr>\n",
       "    <tr>\n",
       "      <th>31163</th>\n",
       "      <td>2012</td>\n",
       "      <td>London</td>\n",
       "      <td>Wrestling</td>\n",
       "      <td>Wrestling Freestyle</td>\n",
       "      <td>ALEKSANYAN, Artur</td>\n",
       "      <td>ARM</td>\n",
       "      <td>Men</td>\n",
       "      <td>Wg 96 KG</td>\n",
       "      <td>Bronze</td>\n",
       "    </tr>\n",
       "    <tr>\n",
       "      <th>31164</th>\n",
       "      <td>2012</td>\n",
       "      <td>London</td>\n",
       "      <td>Wrestling</td>\n",
       "      <td>Wrestling Freestyle</td>\n",
       "      <td>LIDBERG, Jimmy</td>\n",
       "      <td>SWE</td>\n",
       "      <td>Men</td>\n",
       "      <td>Wg 96 KG</td>\n",
       "      <td>Bronze</td>\n",
       "    </tr>\n",
       "  </tbody>\n",
       "</table>\n",
       "<p>31165 rows × 9 columns</p>\n",
       "</div>"
      ],
      "text/plain": [
       "       Year    City      Sport           Discipline  \\\n",
       "0      1896  Athens   Aquatics             Swimming   \n",
       "1      1896  Athens   Aquatics             Swimming   \n",
       "2      1896  Athens   Aquatics             Swimming   \n",
       "3      1896  Athens   Aquatics             Swimming   \n",
       "4      1896  Athens   Aquatics             Swimming   \n",
       "...     ...     ...        ...                  ...   \n",
       "31160  2012  London  Wrestling  Wrestling Freestyle   \n",
       "31161  2012  London  Wrestling  Wrestling Freestyle   \n",
       "31162  2012  London  Wrestling  Wrestling Freestyle   \n",
       "31163  2012  London  Wrestling  Wrestling Freestyle   \n",
       "31164  2012  London  Wrestling  Wrestling Freestyle   \n",
       "\n",
       "                         Athlete Country Gender                       Event  \\\n",
       "0                  HAJOS, Alfred     HUN    Men              100M Freestyle   \n",
       "1               HERSCHMANN, Otto     AUT    Men              100M Freestyle   \n",
       "2              DRIVAS, Dimitrios     GRE    Men  100M Freestyle For Sailors   \n",
       "3             MALOKINIS, Ioannis     GRE    Men  100M Freestyle For Sailors   \n",
       "4             CHASAPIS, Spiridon     GRE    Men  100M Freestyle For Sailors   \n",
       "...                          ...     ...    ...                         ...   \n",
       "31160         JANIKOWSKI, Damian     POL    Men                    Wg 84 KG   \n",
       "31161  REZAEI, Ghasem Gholamreza     IRI    Men                    Wg 96 KG   \n",
       "31162             TOTROV, Rustam     RUS    Men                    Wg 96 KG   \n",
       "31163          ALEKSANYAN, Artur     ARM    Men                    Wg 96 KG   \n",
       "31164             LIDBERG, Jimmy     SWE    Men                    Wg 96 KG   \n",
       "\n",
       "        Medal  \n",
       "0        Gold  \n",
       "1      Silver  \n",
       "2      Bronze  \n",
       "3        Gold  \n",
       "4      Silver  \n",
       "...       ...  \n",
       "31160  Bronze  \n",
       "31161    Gold  \n",
       "31162  Silver  \n",
       "31163  Bronze  \n",
       "31164  Bronze  \n",
       "\n",
       "[31165 rows x 9 columns]"
      ]
     },
     "execution_count": 115,
     "metadata": {},
     "output_type": "execute_result"
    }
   ],
   "source": [
    "import pandas as pd\n",
    "import numpy as np\n",
    "import matplotlib.pyplot as plt\n",
    "df = pd.read_csv(\"summer.csv\")\n",
    "df"
   ]
  },
  {
   "cell_type": "code",
   "execution_count": 116,
   "id": "752956c7",
   "metadata": {},
   "outputs": [
    {
     "name": "stdout",
     "output_type": "stream",
     "text": [
      "The summer olympics is held in  22 cities\n",
      "1 Athens \n",
      "\n",
      "2 Paris \n",
      "\n",
      "3 St Louis \n",
      "\n",
      "4 London \n",
      "\n",
      "5 Stockholm \n",
      "\n",
      "6 Antwerp \n",
      "\n",
      "7 Amsterdam \n",
      "\n",
      "8 Los Angeles \n",
      "\n",
      "9 Berlin \n",
      "\n",
      "10 Helsinki \n",
      "\n",
      "11 Melbourne / Stockholm \n",
      "\n",
      "12 Rome \n",
      "\n",
      "13 Tokyo \n",
      "\n",
      "14 Mexico \n",
      "\n",
      "15 Munich \n",
      "\n",
      "16 Montreal \n",
      "\n",
      "17 Moscow \n",
      "\n",
      "18 Seoul \n",
      "\n",
      "19 Barcelona \n",
      "\n",
      "20 Atlanta \n",
      "\n",
      "21 Sydney \n",
      "\n",
      "22 Beijing \n",
      "\n"
     ]
    }
   ],
   "source": [
    "(1) # IN HOW MANY CITIES SUMMER OLYMPICS IS HELD SO FOR ?\n",
    "cities=[]\n",
    "for city in df[\"City\"].unique():\n",
    "    cities.append(city) \n",
    "print(\"The summer olympics is held in \",len(cities),\"cities\")\n",
    "j=0\n",
    "for i in cities:\n",
    "    print(j+1,i,\"\\n\")\n",
    "    j+=1"
   ]
  },
  {
   "cell_type": "code",
   "execution_count": 156,
   "id": "1303f313",
   "metadata": {},
   "outputs": [
    {
     "name": "stdout",
     "output_type": "stream",
     "text": [
      "         Sport  gold_medals\n",
      "0     Aquatics         1421\n",
      "1    Athletics         1215\n",
      "17      Rowing          890\n",
      "4   Gymnastics          820\n",
      "3      Fencing          552\n"
     ]
    },
    {
     "data": {
      "text/plain": [
       "<AxesSubplot:xlabel='Sport'>"
      ]
     },
     "execution_count": 156,
     "metadata": {},
     "output_type": "execute_result"
    },
    {
     "data": {
      "image/png": "[encoded data removed]",
      "text/plain": [
       "<Figure size 1080x432 with 1 Axes>"
      ]
     },
     "metadata": {
      "needs_background": "light"
     },
     "output_type": "display_data"
    }
   ],
   "source": [
    "(2)#WHICH SPORT IS HAVING MOST NUMBER OF GOLD MEDALS SO FOR?\n",
    "data=[]\n",
    "for medals in df[\"Sport\"].unique():\n",
    "    data.append([medals,len(df[(df[\"Sport\"]==medals) & (df[\"Medal\"]==\"Gold\")])])  \n",
    "data=pd.DataFrame(data,columns=[\"Sport\",\"gold_medals\"])\n",
    "data=data.sort_values(by=\"gold_medals\",ascending= False)\n",
    "print(data.head())\n",
    "data.head().plot(x=\"Sport\",y=\"gold_medals\",kind=\"bar\",figsize=(15,6))"
   ]
  },
  {
   "cell_type": "code",
   "execution_count": 153,
   "id": "71b73222",
   "metadata": {},
   "outputs": [
    {
     "name": "stdout",
     "output_type": "stream",
     "text": [
      "         Sport  freq\n",
      "0     Aquatics  4170\n",
      "1    Athletics  3638\n",
      "17      Rowing  2667\n",
      "4   Gymnastics  2307\n",
      "3      Fencing  1613\n"
     ]
    },
    {
     "data": {
      "text/plain": [
       "<AxesSubplot:xlabel='Sport'>"
      ]
     },
     "execution_count": 153,
     "metadata": {},
     "output_type": "execute_result"
    },
    {
     "data": {
      "image/png": "[encoded data removed]",
      "text/plain": [
       "<Figure size 1080x360 with 1 Axes>"
      ]
     },
     "metadata": {
      "needs_background": "light"
     },
     "output_type": "display_data"
    }
   ],
   "source": [
    "(3)#WHICH SPORT IS HAVING MOST NUMBER OF GOLD MEDALS?\n",
    "data=[]\n",
    "for medals in df[\"Sport\"].unique():\n",
    "    data.append([medals,len(df[df[\"Sport\"]==medals])])\n",
    "data=pd.DataFrame(data,columns=[\"Sport\",\"freq\"])\n",
    "data=data.sort_values(by=\"freq\",ascending = False)\n",
    "print(data.head())\n",
    "data.head().plot(x=\"Sport\",y=\"freq\",kind =\"bar\",figsize=(15,5))\n",
    "  \n",
    "                             "
   ]
  },
  {
   "cell_type": "code",
   "execution_count": 27,
   "id": "a1a41b3e",
   "metadata": {},
   "outputs": [
    {
     "name": "stdout",
     "output_type": "stream",
     "text": [
      "                    Athlete  freq\n",
      "18640       PHELPS, Michael    22\n",
      "7197       LATYNINA, Larisa    18\n",
      "9948     ANDRIANOV, Nikolay    15\n",
      "6591           ONO, Takashi    13\n",
      "5103   MANGIAROTTI, Edoardo    13\n"
     ]
    },
    {
     "data": {
      "text/plain": [
       "<AxesSubplot:xlabel='Athlete'>"
      ]
     },
     "execution_count": 27,
     "metadata": {},
     "output_type": "execute_result"
    },
    {
     "data": {
      "image/png": "[encoded data removed]",
      "text/plain": [
       "<Figure size 1080x360 with 1 Axes>"
      ]
     },
     "metadata": {
      "needs_background": "light"
     },
     "output_type": "display_data"
    }
   ],
   "source": [
    "(4)#WHICH PLAYER IS HAVING MOST NUMBER OF MEDALS?\n",
    "data=[]\n",
    "for player in df[\"Athlete\"].unique():\n",
    "    data.append([player,len(df[df[\"Athlete\"]==player])])\n",
    "data=pd.DataFrame(data,columns=[\"Athlete\",\"freq\"])\n",
    "data=data.sort_values(by=\"freq\",ascending = False)\n",
    "print(data.head())\n",
    "data.head().plot(x=\"Athlete\",y=\"freq\",kind =\"bar\",figsize=(15,5)) \n"
   ]
  },
  {
   "cell_type": "code",
   "execution_count": 32,
   "id": "40749182",
   "metadata": {},
   "outputs": [
    {
     "name": "stdout",
     "output_type": "stream",
     "text": [
      "                Athlete  freq\n",
      "18640   PHELPS, Michael    18\n",
      "12468       LEWIS, Carl     9\n",
      "8811        SPITZ, Mark     9\n",
      "2262       NURMI, Paavo     9\n",
      "7197   LATYNINA, Larisa     9\n"
     ]
    },
    {
     "data": {
      "text/plain": [
       "<AxesSubplot:xlabel='Athlete'>"
      ]
     },
     "execution_count": 32,
     "metadata": {},
     "output_type": "execute_result"
    },
    {
     "data": {
      "image/png": "[encoded data removed]",
      "text/plain": [
       "<Figure size 1080x360 with 1 Axes>"
      ]
     },
     "metadata": {
      "needs_background": "light"
     },
     "output_type": "display_data"
    }
   ],
   "source": [
    "(5)#WHICH PLAYER IS HAVING MOST NUMBER OF GOLD MEDALS?\n",
    "data=[]\n",
    "for player in df[\"Athlete\"].unique():\n",
    "    data.append([player,len(df[(df[\"Athlete\"]==player) & (df[\"Medal\"]==\"Gold\")])])\n",
    "data=pd.DataFrame(data,columns=[\"Athlete\",\"freq\"])\n",
    "data=data.sort_values(by=\"freq\",ascending = False)\n",
    "print(data.head())\n",
    "data.head().plot(x=\"Athlete\",y=\"freq\",kind =\"bar\",figsize=(15,5)) "
   ]
  },
  {
   "cell_type": "code",
   "execution_count": 114,
   "id": "437b28bb",
   "metadata": {},
   "outputs": [
    {
     "name": "stdout",
     "output_type": "stream",
     "text": [
      "    Year  freq\n",
      "0   1896     0\n",
      "1   1900     0\n",
      "2   1904     0\n",
      "3   1908     0\n",
      "4   1912     0\n",
      "5   1920     0\n",
      "6   1924     0\n",
      "7   1928    15\n",
      "8   1932    11\n",
      "9   1936    19\n",
      "10  1948    20\n",
      "11  1952    14\n",
      "12  1956    17\n",
      "13  1960     0\n",
      "14  1964    15\n",
      "15  1968     0\n",
      "16  1972     0\n",
      "17  1976     0\n",
      "18  1980    16\n",
      "19  1984     0\n",
      "20  1988     0\n",
      "21  1992     0\n",
      "22  1996     0\n",
      "23  2000     0\n",
      "24  2004     0\n",
      "25  2008     1\n",
      "26  2012     0\n"
     ]
    },
    {
     "data": {
      "text/plain": [
       "<AxesSubplot:xlabel='Year'>"
      ]
     },
     "execution_count": 114,
     "metadata": {},
     "output_type": "execute_result"
    },
    {
     "data": {
      "image/png": "[encoded data removed]",
      "text/plain": [
       "<Figure size 1080x360 with 1 Axes>"
      ]
     },
     "metadata": {
      "needs_background": "light"
     },
     "output_type": "display_data"
    }
   ],
   "source": [
    "(6)#IN WHICH YEAR THE INDIA HAS WON ITS FIRST GOLD MEDAL?\n",
    "data=[]\n",
    "for year in df[\"Year\"].unique():\n",
    "     data.append([year,len(df[(df[\"Year\"]==year) & (df[\"Country\"]==\"IND\") & (df[\"Medal\"]==\"Gold\")])])\n",
    "data=pd.DataFrame(data,columns=[\"Year\",\"freq\"])\n",
    "data=data.sort_values(by=\"Year\",ascending = True)\n",
    "print(data)\n",
    "data.plot(x=\"Year\",y=\"freq\",kind =\"bar\",figsize=(15,5)) "
   ]
  },
  {
   "cell_type": "code",
   "execution_count": 50,
   "id": "f9b019c5",
   "metadata": {},
   "outputs": [
    {
     "name": "stdout",
     "output_type": "stream",
     "text": [
      "                Event  freq\n",
      "80           Football  1497\n",
      "176            Hockey  1422\n",
      "138  Team Competition  1147\n",
      "327        Basketball  1012\n",
      "337          Handball   973\n"
     ]
    },
    {
     "data": {
      "text/plain": [
       "<AxesSubplot:xlabel='Event'>"
      ]
     },
     "execution_count": 50,
     "metadata": {},
     "output_type": "execute_result"
    },
    {
     "data": {
      "image/png": "[encoded data removed]",
      "text/plain": [
       "<Figure size 1080x360 with 1 Axes>"
      ]
     },
     "metadata": {
      "needs_background": "light"
     },
     "output_type": "display_data"
    }
   ],
   "source": [
    "(7)#WHICH EVENT IS MOST POPULAR IN TERMS OF NUMBER OF PLAYERS ?\n",
    "data=[]\n",
    "for sport in df[\"Event\"].unique():\n",
    "    data.append([sport,len(df[df[\"Event\"]==sport])])\n",
    "data=pd.DataFrame(data,columns=[\"Event\",\"freq\"])\n",
    "data=data.sort_values(by=\"freq\",ascending = False)\n",
    "print(data.head())\n",
    "data.head().plot(x=\"Event\",y=\"freq\",kind =\"bar\",figsize=(15,5)) "
   ]
  },
  {
   "cell_type": "code",
   "execution_count": 59,
   "id": "0963a208",
   "metadata": {},
   "outputs": [
    {
     "name": "stdout",
     "output_type": "stream",
     "text": [
      "         Sport  freq\n",
      "0     Aquatics  1726\n",
      "1    Athletics  1163\n",
      "4   Gymnastics   799\n",
      "17      Rowing   651\n",
      "35  Volleyball   497\n"
     ]
    },
    {
     "data": {
      "text/plain": [
       "<AxesSubplot:xlabel='Sport'>"
      ]
     },
     "execution_count": 59,
     "metadata": {},
     "output_type": "execute_result"
    },
    {
     "data": {
      "image/png": "[encoded data removed]",
      "text/plain": [
       "<Figure size 1080x360 with 1 Axes>"
      ]
     },
     "metadata": {
      "needs_background": "light"
     },
     "output_type": "display_data"
    }
   ],
   "source": [
    "(8)#WHICH SPORT IS HAVING MOST NUMBER OF FEMALE GOLD MEDALISTS ?\n",
    "data=[]\n",
    "for sport in df[\"Sport\"].unique():\n",
    "     data.append([sport,len(df[(df[\"Sport\"]==sport) & (df[\"Gender\"]==\"Women\")])])\n",
    "data=pd.DataFrame(data,columns=[\"Sport\",\"freq\"])\n",
    "data=data.sort_values(by=\"freq\",ascending = False)\n",
    "print(data.head())\n",
    "data.head().plot(x=\"Sport\",y=\"freq\",kind =\"bar\",figsize=(15,5))        "
   ]
  }
 ],
 "metadata": {
  "kernelspec": {
   "display_name": "Python 3",
   "language": "python",
   "name": "python3"
  },
  "language_info": {
   "codemirror_mode": {
    "name": "ipython",
    "version": 3
   },
   "file_extension": ".py",
   "mimetype": "text/x-python",
   "name": "python",
   "nbconvert_exporter": "python",
   "pygments_lexer": "ipython3",
   "version": "3.8.8"
  }
 },
 "nbformat": 4,
 "nbformat_minor": 5
}
